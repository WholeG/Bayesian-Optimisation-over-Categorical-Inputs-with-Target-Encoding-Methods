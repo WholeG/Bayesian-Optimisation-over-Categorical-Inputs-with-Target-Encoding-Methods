{
 "cells": [
  {
   "cell_type": "code",
   "execution_count": 1,
   "id": "40d5d752",
   "metadata": {
    "ExecuteTime": {
     "end_time": "2021-11-27T11:45:10.510061Z",
     "start_time": "2021-11-27T11:45:10.504995Z"
    }
   },
   "outputs": [],
   "source": [
    "import os \n",
    "os.chdir ('/home/wenyu/pycharm_projs/Categorical_encoding/')"
   ]
  },
  {
   "cell_type": "code",
   "execution_count": 2,
   "id": "f2a57069",
   "metadata": {
    "ExecuteTime": {
     "end_time": "2021-11-27T11:45:11.788682Z",
     "start_time": "2021-11-27T11:45:10.512044Z"
    }
   },
   "outputs": [
    {
     "name": "stdout",
     "output_type": "stream",
     "text": [
      "Libraries imported\n"
     ]
    }
   ],
   "source": [
    "from initDesignDomain import initBO\n",
    "from sktools import QuantileEncoder, SummaryEncoder\n",
    "import syntheticFunctions as test_func\n",
    "import numpy as np\n",
    "import pandas as pd\n",
    "import matplotlib.pyplot as plt\n",
    "import time\n",
    "import warnings\n",
    "warnings.filterwarnings(\"ignore\")\n",
    "# -------------------START Bortorch packages \n",
    "import torch\n",
    "import os\n",
    "import math\n",
    "import random\n",
    "from pandas import DataFrame\n",
    "from sklearn.model_selection import train_test_split\n",
    "from sklearn.preprocessing import StandardScaler\n",
    "from botorch.models.gpytorch import GPyTorchModel\n",
    "from gpytorch.distributions import MultivariateNormal\n",
    "from gpytorch.means import ConstantMean\n",
    "from gpytorch.models import ExactGP\n",
    "from gpytorch.kernels import RBFKernel, ScaleKernel\n",
    "from gpytorch.likelihoods import GaussianLikelihood\n",
    "from gpytorch.mlls import ExactMarginalLogLikelihood\n",
    "from botorch.optim import optimize_acqf\n",
    "from botorch.acquisition.analytic import ExpectedImprovement\n",
    "from botorch.acquisition.analytic import PosteriorMean\n",
    "from botorch.acquisition.analytic import ProbabilityOfImprovement\n",
    "from botorch.acquisition.analytic import UpperConfidenceBound\n",
    "from botorch.fit import fit_gpytorch_model\n",
    "from botorch.models import SingleTaskGP\n",
    "from sklearn import preprocessing\n",
    "# from category_encoders import TargetEncoder as TE\n",
    "from category_encoders import TargetEncoder \n",
    "\n",
    "plt.rcParams['figure.dpi'] = 200\n",
    "plt.rcParams['axes.unicode_minus'] = False\n",
    "print('Libraries imported')\n",
    "# -------------------END Bortorch packages \n",
    "\n",
    "# -------------------START\n",
    "import pickle\n",
    "import time\n",
    "import copy"
   ]
  },
  {
   "cell_type": "markdown",
   "id": "141409e2",
   "metadata": {},
   "source": [
    "# BO"
   ]
  },
  {
   "cell_type": "code",
   "execution_count": 3,
   "id": "4a68375e",
   "metadata": {
    "ExecuteTime": {
     "end_time": "2021-11-27T11:45:11.796363Z",
     "start_time": "2021-11-27T11:45:11.792639Z"
    }
   },
   "outputs": [],
   "source": [
    "def del_tensor_element(tensor, index):\n",
    "    t1 = tensor[0:index]\n",
    "    t2 = tensor[index + 1:]\n",
    "    return torch.cat((t1, t2), dim=0)"
   ]
  },
  {
   "cell_type": "code",
   "execution_count": 4,
   "id": "741ea62a",
   "metadata": {
    "ExecuteTime": {
     "end_time": "2021-11-27T11:45:11.802224Z",
     "start_time": "2021-11-27T11:45:11.797317Z"
    }
   },
   "outputs": [],
   "source": [
    "encoder = 'cov_mean'\n",
    "f = test_func.Ackley5C\n",
    "obj_func = 'Ackley5C'\n",
    "C = [17,17,17,17,17]\n",
    "design_seed = 10000\n",
    "bounds = [\n",
    "    {'name': 'h1', 'type': 'categorical', 'domain': (1,2,3,4,5,6,7,8,9,10,11,12,13,14,15,16,17)},\n",
    "    {'name': 'h2', 'type': 'categorical', 'domain': (1,2,3,4,5,6,7,8,9,10,11,12,13,14,15,16,17)},\n",
    "    {'name': 'h3', 'type': 'categorical', 'domain': (1,2,3,4,5,6,7,8,9,10,11,12,13,14,15,16,17)},\n",
    "    {'name': 'h4', 'type': 'categorical', 'domain': (1,2,3,4,5,6,7,8,9,10,11,12,13,14,15,16,17)},\n",
    "    {'name': 'h5', 'type': 'categorical', 'domain': (1,2,3,4,5,6,7,8,9,10,11,12,13,14,15,16,17)},\n",
    "    {'name': 'x1', 'type': 'continuous', 'domain': (-1, 1)}]\n",
    "\n",
    "max_trials = 1\n",
    "budget = 20\n",
    "init_N = 24\n",
    "df_list = []\n",
    "scaler = preprocessing.MinMaxScaler(feature_range=(-1, 1))\n",
    "init_data_path = 'experiment_data/benchmark/init_data/Ackley5C/'"
   ]
  },
  {
   "cell_type": "code",
   "execution_count": 9,
   "id": "ee760844",
   "metadata": {
    "ExecuteTime": {
     "end_time": "2021-11-27T12:45:57.146213Z",
     "start_time": "2021-11-27T12:45:57.142750Z"
    }
   },
   "outputs": [
    {
     "data": {
      "text/plain": [
       "array([[0.00000000e+00, 2.13170888e-02, 3.59906681e-02, ...,\n",
       "        2.12701435e-03, 2.13735673e-03, 8.38459362e-04],\n",
       "       [2.13170888e-02, 0.00000000e+00, 2.87858247e-02, ...,\n",
       "        9.13822563e-03, 9.17095563e-03, 1.53710288e-04],\n",
       "       [3.59906681e-02, 2.87858247e-02, 0.00000000e+00, ...,\n",
       "        3.49569949e-03, 3.51436095e-03, 4.88895937e-04],\n",
       "       ...,\n",
       "       [2.12701435e-03, 9.13822563e-03, 3.49569949e-03, ...,\n",
       "        0.00000000e+00, 3.87110216e-02, 7.13031876e-06],\n",
       "       [2.13735673e-03, 9.17095563e-03, 3.51436095e-03, ...,\n",
       "        3.87110216e-02, 0.00000000e+00, 7.17429334e-06],\n",
       "       [8.38459362e-04, 1.53710288e-04, 4.88895937e-04, ...,\n",
       "        7.13031876e-06, 7.17429334e-06, 0.00000000e+00]])"
      ]
     },
     "execution_count": 9,
     "metadata": {},
     "output_type": "execute_result"
    }
   ],
   "source": [
    "cov"
   ]
  },
  {
   "cell_type": "code",
   "execution_count": 5,
   "id": "910810d2",
   "metadata": {
    "ExecuteTime": {
     "end_time": "2021-11-27T11:45:17.337839Z",
     "start_time": "2021-11-27T11:45:11.803079Z"
    },
    "scrolled": true
   },
   "outputs": [
    {
     "name": "stdout",
     "output_type": "stream",
     "text": [
      "----------num_trial:  0\n",
      "self.saving_path: experiment_data/benchmark/init_data/Ackley5C/\n",
      "init_fname:  True\n",
      "os.path <module 'posixpath' from '/home/wenyu/.conda/envs/torch/lib/python3.8/posixpath.py'>\n",
      "Using existing init data for seed 10000\n",
      "self.saving_path: experiment_data/benchmark/init_data/Ackley5C/\n",
      "init_fname:  True\n",
      "os.path <module 'posixpath' from '/home/wenyu/.conda/envs/torch/lib/python3.8/posixpath.py'>\n",
      "Using existing init data for seed 0\n",
      "iteration:  0\n",
      "ard_num_dims=None .!!!!!!!!!!!!!!!!!!!!!!!!!!!!!!!!!!!!!!!!!!!\n",
      "weight  0 [0.01941945 0.03887761 0.01996251 0.0194363  0.03952794 0.01649186\n",
      " 0.02010676 0.0327806  0.02973683 0.02792352 0.02792173 0.01742597\n",
      " 0.01719782 0.02612121 0.07496469 0.06353362 0.1074298  0.02861408\n",
      " 0.04710761 0.03050577 0.0322217  0.02822902 0.04956836 0.03205785\n",
      " 0.15283737]\n",
      "iteration:  1\n",
      "ard_num_dims=None .!!!!!!!!!!!!!!!!!!!!!!!!!!!!!!!!!!!!!!!!!!!\n",
      "weight  1 [0.00812405 0.01550666 0.01097317 0.00813032 0.01718539 0.0160774\n",
      " 0.01399177 0.00954112 0.02049893 0.03194424 0.00712375 0.0084252\n",
      " 0.0085016  0.01244918 0.03474316 0.04125671 0.04650426 0.00723974\n",
      " 0.0084952  0.0083518  0.0280082  0.00693159 0.01265762 0.0076448\n",
      " 0.03654428 0.57314986]\n",
      "iteration:  2\n",
      "ard_num_dims=None .!!!!!!!!!!!!!!!!!!!!!!!!!!!!!!!!!!!!!!!!!!!\n",
      "weight  2 [0.01921634 0.01466034 0.00978699 0.00970629 0.01645577 0.01047639\n",
      " 0.01452651 0.01666753 0.04097879 0.02457501 0.00806921 0.00980501\n",
      " 0.00954713 0.01444857 0.06393222 0.06190009 0.0853028  0.00842825\n",
      " 0.01166019 0.00978165 0.02888192 0.0081577  0.0189083  0.00835788\n",
      " 0.09727942 0.22490474 0.15358495]\n",
      "iteration:  3\n",
      "ard_num_dims=None .!!!!!!!!!!!!!!!!!!!!!!!!!!!!!!!!!!!!!!!!!!!\n",
      "weight  3 [0.01809109 0.02281282 0.01752099 0.01475219 0.02352419 0.02215253\n",
      " 0.02122619 0.01745961 0.041804   0.03526132 0.01237454 0.01480137\n",
      " 0.01510117 0.02167222 0.06214719 0.06450428 0.08752775 0.01236076\n",
      " 0.01530704 0.01425291 0.04788629 0.01212541 0.02072439 0.01297694\n",
      " 0.07533931 0.09624062 0.09553694 0.08451594]\n",
      "iteration:  4\n",
      "ard_num_dims=None .!!!!!!!!!!!!!!!!!!!!!!!!!!!!!!!!!!!!!!!!!!!\n",
      "weight  4 [0.01834139 0.02785285 0.02211528 0.01748874 0.02882936 0.02976644\n",
      " 0.02588004 0.01976754 0.04391322 0.0425672  0.01471188 0.01772889\n",
      " 0.0180749  0.02596849 0.05317332 0.05381073 0.08382537 0.0148757\n",
      " 0.01653776 0.01733981 0.05744093 0.01433076 0.02375153 0.01534503\n",
      " 0.06411201 0.05494342 0.05491046 0.05777536 0.0648216 ]\n",
      "iteration:  5\n",
      "ard_num_dims=None .!!!!!!!!!!!!!!!!!!!!!!!!!!!!!!!!!!!!!!!!!!!\n",
      "weight  5 [0.01877447 0.02880965 0.02359452 0.01854251 0.02604365 0.03136004\n",
      " 0.02441141 0.0211654  0.04598369 0.03191033 0.01577798 0.01872624\n",
      " 0.01931084 0.02794353 0.05554376 0.05581833 0.08850755 0.01605513\n",
      " 0.0173406  0.01867756 0.0611227  0.01547694 0.02319658 0.01650627\n",
      " 0.06656967 0.03849754 0.04355711 0.0370707  0.05544673 0.03825857]\n",
      "iteration:  6\n",
      "ard_num_dims=None .!!!!!!!!!!!!!!!!!!!!!!!!!!!!!!!!!!!!!!!!!!!\n",
      "weight  6 [0.01965635 0.02090127 0.01959832 0.01973913 0.02162391 0.01988444\n",
      " 0.02132202 0.03184531 0.0472058  0.02282539 0.02324773 0.01975355\n",
      " 0.01956964 0.03757708 0.05254719 0.04885971 0.06893845 0.02576242\n",
      " 0.02270226 0.02913669 0.05230015 0.02361684 0.02076165 0.02275692\n",
      " 0.06148307 0.02894433 0.03115362 0.02739243 0.03475774 0.02557833\n",
      " 0.07855824]\n",
      "iteration:  7\n",
      "ard_num_dims=None .!!!!!!!!!!!!!!!!!!!!!!!!!!!!!!!!!!!!!!!!!!!\n",
      "weight  7 [0.01274177 0.07246602 0.02670464 0.01307973 0.02623037 0.07614681\n",
      " 0.02417155 0.02147023 0.03939603 0.05090389 0.00953203 0.0149648\n",
      " 0.01383698 0.02695613 0.02163075 0.02662775 0.02427071 0.01436056\n",
      " 0.0109402  0.0191897  0.05925748 0.00957703 0.02770153 0.01047254\n",
      " 0.02019546 0.03165303 0.03681512 0.03677211 0.05125795 0.0688725\n",
      " 0.04369489 0.05810972]\n",
      "iteration:  8\n",
      "ard_num_dims=None .!!!!!!!!!!!!!!!!!!!!!!!!!!!!!!!!!!!!!!!!!!!\n",
      "weight  8 [0.01170712 0.10012228 0.02756846 0.01241372 0.02527677 0.10213299\n",
      " 0.02437253 0.02098071 0.03594409 0.05799184 0.00768871 0.01365811\n",
      " 0.01251253 0.02624689 0.01838315 0.02430351 0.02050187 0.01474068\n",
      " 0.00947935 0.01964209 0.05632132 0.00781415 0.03007538 0.00860807\n",
      " 0.01651395 0.01458883 0.01835249 0.02172436 0.04027334 0.07393701\n",
      " 0.04332609 0.0663076  0.01649003]\n",
      "iteration:  9\n",
      "ard_num_dims=None .!!!!!!!!!!!!!!!!!!!!!!!!!!!!!!!!!!!!!!!!!!!\n",
      "weight  9 [0.02272253 0.02476177 0.02374485 0.02272792 0.02426437 0.0252852\n",
      " 0.0239375  0.02954067 0.05437135 0.02499687 0.02228189 0.0223788\n",
      " 0.02282177 0.03734675 0.03105249 0.02953244 0.04095757 0.02365098\n",
      " 0.02261925 0.02651483 0.06572269 0.02233411 0.02351709 0.02248006\n",
      " 0.03583174 0.02417812 0.02444505 0.02453118 0.02547346 0.02547622\n",
      " 0.04959798 0.0270116  0.02433627 0.04955462]\n",
      "iteration:  10\n",
      "ard_num_dims=None .!!!!!!!!!!!!!!!!!!!!!!!!!!!!!!!!!!!!!!!!!!!\n",
      "weight  10 [0.02240351 0.02354897 0.02338736 0.02233853 0.02394676 0.02436067\n",
      " 0.0236792  0.02551778 0.04049287 0.02467138 0.02111659 0.02224403\n",
      " 0.02256392 0.03042616 0.03131302 0.02972059 0.04134189 0.02162214\n",
      " 0.02132744 0.0235473  0.04682557 0.02107146 0.02319838 0.02125088\n",
      " 0.03618153 0.02405525 0.02431781 0.02425297 0.02520459 0.02491559\n",
      " 0.04944965 0.02669199 0.02418926 0.04910729 0.05971764]\n",
      "iteration:  11\n",
      "ard_num_dims=None .!!!!!!!!!!!!!!!!!!!!!!!!!!!!!!!!!!!!!!!!!!!\n",
      "weight  11 [0.02120942 0.02137716 0.02148011 0.02122066 0.02217897 0.02175213\n",
      " 0.02203263 0.02416462 0.03387133 0.02263483 0.0206241  0.02118643\n",
      " 0.02124943 0.02755234 0.03370593 0.03167181 0.04471893 0.02125158\n",
      " 0.02063371 0.02271816 0.03755707 0.02069195 0.02175072 0.02063138\n",
      " 0.03924216 0.02345792 0.024011   0.02327349 0.02524279 0.02318819\n",
      " 0.05191522 0.0272165  0.02368538 0.0515749  0.04474067 0.04458637]\n",
      "iteration:  12\n",
      "ard_num_dims=None .!!!!!!!!!!!!!!!!!!!!!!!!!!!!!!!!!!!!!!!!!!!\n",
      "weight  12 [0.02068731 0.02031107 0.02069714 0.02069843 0.02167525 0.02073916\n",
      " 0.02152661 0.02221269 0.02912784 0.02211539 0.01971458 0.02071264\n",
      " 0.02065632 0.02464017 0.03507435 0.03282945 0.04614631 0.0201377\n",
      " 0.0197372  0.02117675 0.03171003 0.01975838 0.02127067 0.01972804\n",
      " 0.04072689 0.02349805 0.02420579 0.02314065 0.02564768 0.02281891\n",
      " 0.0530111  0.02787675 0.02377247 0.05270224 0.03651706 0.03653085\n",
      " 0.03646806]\n",
      "iteration:  13\n",
      "ard_num_dims=None .!!!!!!!!!!!!!!!!!!!!!!!!!!!!!!!!!!!!!!!!!!!\n",
      "weight  13 [0.02011043 0.01932483 0.01993269 0.02013873 0.02122181 0.01980869\n",
      " 0.02107063 0.02065804 0.02586404 0.0217031  0.01881699 0.02019685\n",
      " 0.02003219 0.0224994  0.03628522 0.03393524 0.04730507 0.01910909\n",
      " 0.01884231 0.01988014 0.02779656 0.01883833 0.02080677 0.01882981\n",
      " 0.04198819 0.02361008 0.02446932 0.02310946 0.02611919 0.02257658\n",
      " 0.05382072 0.02856993 0.02393606 0.05357243 0.03131224 0.03135242\n",
      " 0.03129858 0.03125787]\n",
      "iteration:  14\n",
      "ard_num_dims=None .!!!!!!!!!!!!!!!!!!!!!!!!!!!!!!!!!!!!!!!!!!!\n",
      "weight  14 [0.02074963 0.01924722 0.02047764 0.02077893 0.0220642  0.02021276\n",
      " 0.02189377 0.01833365 0.02195081 0.02257207 0.01787855 0.02086363\n",
      " 0.0206407  0.01951742 0.03655776 0.03422144 0.0479485  0.0176627\n",
      " 0.01806588 0.01791216 0.02343524 0.01781078 0.02159046 0.01802293\n",
      " 0.04241117 0.02423922 0.02501656 0.02380772 0.02657713 0.02338721\n",
      " 0.05491126 0.02894861 0.0245382  0.05465504 0.02621521 0.02624605\n",
      " 0.0261988  0.02626959 0.02616943]\n",
      "iteration:  15\n",
      "ard_num_dims=None .!!!!!!!!!!!!!!!!!!!!!!!!!!!!!!!!!!!!!!!!!!!\n",
      "weight  15 [0.02133646 0.01982466 0.02112357 0.02135901 0.02247683 0.02087878\n",
      " 0.02235561 0.01854378 0.02213067 0.02285038 0.01826313 0.02142853\n",
      " 0.02125122 0.01969405 0.0312131  0.02964464 0.03918884 0.01796225\n",
      " 0.01848428 0.01815185 0.02363994 0.01817477 0.02207346 0.01843181\n",
      " 0.03529027 0.02356452 0.02394766 0.02339225 0.02483337 0.02331394\n",
      " 0.04430879 0.02628778 0.02373387 0.04410736 0.0264664  0.02649578\n",
      " 0.02644609 0.02650583 0.02645397 0.04437048]\n",
      "iteration:  16\n",
      "ard_num_dims=None .!!!!!!!!!!!!!!!!!!!!!!!!!!!!!!!!!!!!!!!!!!!\n",
      "weight  16 [0.02168799 0.01900489 0.021215   0.02172471 0.02325854 0.02066953\n",
      " 0.02309958 0.01643781 0.0197067  0.02371074 0.01677396 0.02185774\n",
      " 0.02150989 0.0174549  0.03192426 0.03036499 0.04011879 0.0161832\n",
      " 0.01709923 0.01615513 0.02111977 0.0166307  0.022745   0.01702903\n",
      " 0.03609774 0.02439326 0.02475669 0.02425188 0.0256181  0.02420681\n",
      " 0.04544506 0.02703446 0.02454977 0.04523738 0.02380111 0.02381298\n",
      " 0.02376442 0.02381283 0.02377811 0.04556637 0.01639096]\n"
     ]
    },
    {
     "name": "stdout",
     "output_type": "stream",
     "text": [
      "iteration:  17\n",
      "ard_num_dims=None .!!!!!!!!!!!!!!!!!!!!!!!!!!!!!!!!!!!!!!!!!!!\n",
      "weight  17 [0.02182842 0.01860465 0.02121995 0.02186482 0.02356203 0.02056805\n",
      " 0.02340298 0.01510481 0.01744303 0.02404027 0.01607601 0.02202831\n",
      " 0.0216096  0.01575544 0.03247034 0.0308883  0.04080176 0.0152701\n",
      " 0.01646408 0.0150003  0.01855419 0.01589678 0.02300289 0.01638167\n",
      " 0.03673043 0.0247897  0.02516278 0.02463281 0.0260412  0.02458039\n",
      " 0.04623987 0.02748676 0.02495601 0.04601349 0.02068169 0.020692\n",
      " 0.02064771 0.02067364 0.0206767  0.0463402  0.01516869 0.02064714]\n",
      "iteration:  18\n",
      "ard_num_dims=None .!!!!!!!!!!!!!!!!!!!!!!!!!!!!!!!!!!!!!!!!!!!\n",
      "weight  18 [0.02173132 0.01806483 0.02097493 0.02177665 0.02362565 0.0201891\n",
      " 0.02345534 0.01405736 0.01576417 0.02413929 0.01541213 0.02197436\n",
      " 0.02146728 0.01447204 0.03317068 0.03153916 0.04167079 0.01449044\n",
      " 0.01582508 0.0140698  0.01665574 0.01521045 0.02303663 0.0157376\n",
      " 0.03755364 0.02506963 0.02548787 0.02487363 0.02643468 0.02474913\n",
      " 0.04716654 0.02796346 0.02525126 0.04694795 0.01837615 0.01838599\n",
      " 0.01835177 0.01836926 0.01837249 0.04726878 0.01414947 0.01836693\n",
      " 0.01835055]\n",
      "iteration:  19\n",
      "ard_num_dims=None .!!!!!!!!!!!!!!!!!!!!!!!!!!!!!!!!!!!!!!!!!!!\n",
      "weight  19 [0.02293991 0.01906217 0.02226212 0.02296988 0.0246984  0.02148042\n",
      " 0.02456066 0.01408072 0.0156322  0.02508178 0.01588099 0.02314761\n",
      " 0.02269904 0.01440207 0.02849837 0.02751573 0.0343711  0.0147449\n",
      " 0.01637579 0.01417423 0.01651982 0.01563101 0.02415521 0.01627637\n",
      " 0.0314257  0.02483591 0.02481602 0.02495145 0.02505691 0.0252645\n",
      " 0.03853903 0.02566711 0.02487259 0.03834563 0.01827144 0.01829284\n",
      " 0.01825142 0.01826182 0.01828033 0.0386272  0.01421064 0.01827122\n",
      " 0.01826742 0.03833032]\n"
     ]
    }
   ],
   "source": [
    "start = time.perf_counter()\n",
    "for trial in range(max_trials):\n",
    "    print(\"----------num_trial: \", trial)\n",
    "    design_obj = initBO(objfn=f, initN=design_seed, bounds=bounds, C=C, saving_path=init_data_path)\n",
    "    design_data, design_y = design_obj.initialise(seed=design_seed)\n",
    "    \n",
    "    init_obj = initBO(f, init_N, bounds, C, saving_path=init_data_path)\n",
    "    data, y = init_obj.initialise(seed=trial)\n",
    "    y_s = scaler.fit_transform(y)\n",
    "\n",
    "    TE = TargetEncoder(cols=list(range(len(C)))).fit(data, y_s)\n",
    "    z = TE.transform(data)\n",
    "\n",
    "    maxindex_list = []\n",
    "    cand_y_list = []\n",
    "    max_y_list = []\n",
    "    for iteration in range(budget):\n",
    "        print(\"iteration: \", iteration)\n",
    "        design_z = torch.from_numpy(TE.transform(design_data).values)\n",
    "        gp = SingleTaskGP(torch.from_numpy(np.array(z)), y).to(dtype=torch.double)\n",
    "        mll = ExactMarginalLogLikelihood(gp.likelihood, gp)\n",
    "        fit_gpytorch_model(mll)\n",
    "        beta = 20 * 0.985 ** iteration\n",
    "        UCB = UpperConfidenceBound(model=gp, beta=beta)\n",
    "        try:\n",
    "            acq_value = UCB(design_z.unsqueeze(-2))\n",
    "        except:\n",
    "            print(f\"{trial}_error!!!!!!!!!!!!_{iteration}_iteration\")\n",
    "            break\n",
    "\n",
    "        max_index = torch.argmax(acq_value, dim=-1).tolist()\n",
    "        maxindex_list.append(max_index)\n",
    "        # candidate\n",
    "        candidate_h_x = design_data[max_index]\n",
    "        candidate_y = design_y[max_index].unsqueeze(0)\n",
    "        data = np.vstack((data, candidate_h_x))\n",
    "        y = torch.vstack((y, candidate_y))\n",
    "#         y_s = scaler.fit_transform(y)\n",
    "        y_s = scaler.transform(y)\n",
    "        cand_y_list.append(candidate_y.item())\n",
    "        max_y_list.append(y.max().item())\n",
    "        design_data = np.delete(design_data, max_index, axis=0)\n",
    "        design_y = del_tensor_element(design_y, max_index)\n",
    "\n",
    "        z = TE.transform(data)\n",
    "        cov = gp.covar_module(torch.from_numpy(z.values)).numpy()\n",
    "        # cov = gp.covar_module(torch.from_numpy(data.value)).numpy()\n",
    "#         print(\"cov\", cov)\n",
    "        row, col = np.diag_indices_from(cov)\n",
    "        cov[row,col] = np.zeros([cov.shape[0]])\n",
    "        # Second order inverse distance weighting\n",
    "        d_power = cov.sum(axis=1)**(-2)\n",
    "        d_sum = d_power.sum()\n",
    "        weight = d_power/d_sum\n",
    "        print(f\"weight  {iteration}\", weight)\n",
    "        y_s = (y_s.reshape(-1) * weight).reshape(-1, 1)\n",
    "\n",
    "        TE = TargetEncoder(cols=list(range(len(C)))).fit(data, y_s)\n",
    "        z = TE.transform(data)\n",
    "#         print(f\"z{iteration}\", z)\n",
    "#         print(\"mapping\",TE.mapping)\n",
    "        \n",
    "        \n",
    "    final_max = max(max_y_list)\n",
    "    df_list.append([trial, final_max, cand_y_list, max_y_list])"
   ]
  },
  {
   "cell_type": "code",
   "execution_count": 10,
   "id": "5eaa0aa8",
   "metadata": {
    "ExecuteTime": {
     "end_time": "2021-12-02T04:54:51.910242Z",
     "start_time": "2021-12-02T04:54:51.906637Z"
    }
   },
   "outputs": [
    {
     "data": {
      "text/plain": [
       "tensor([[0.3479]], dtype=torch.float64, grad_fn=<SoftplusBackward>)"
      ]
     },
     "execution_count": 10,
     "metadata": {},
     "output_type": "execute_result"
    }
   ],
   "source": [
    "gp.covar_module.base_kernel.lengthscale"
   ]
  },
  {
   "cell_type": "code",
   "execution_count": 6,
   "id": "fdefd4cd",
   "metadata": {
    "ExecuteTime": {
     "end_time": "2021-11-27T11:45:17.343433Z",
     "start_time": "2021-11-27T11:45:17.340470Z"
    }
   },
   "outputs": [],
   "source": [
    "# end = time.perf_counter()\n",
    "# duration = end - start\n",
    "\n",
    "# df = pd.DataFrame(df_list, columns=['num_trial', 'final_max', 'iter_cand_y_list', 'iter_current_max'])\n",
    "# saving_path = f'./experiment_data/benchmark/result/Ackley5C/'\n",
    "# file_name = f\"{saving_path}{obj_func}_trials_{max_trials}_budget_{budget}_{encoder}_ucbdecay_duration{round(duration)}\"\n",
    "# output = open(file_name, 'wb')\n",
    "# pickle.dump(df_list, output)\n",
    "# output.close()\n",
    "# print(\"-----------duration=\", duration)"
   ]
  },
  {
   "cell_type": "code",
   "execution_count": null,
   "id": "d49e4d0e",
   "metadata": {},
   "outputs": [],
   "source": []
  }
 ],
 "metadata": {
  "kernelspec": {
   "display_name": "torch",
   "language": "python",
   "name": "torch"
  },
  "language_info": {
   "codemirror_mode": {
    "name": "ipython",
    "version": 3
   },
   "file_extension": ".py",
   "mimetype": "text/x-python",
   "name": "python",
   "nbconvert_exporter": "python",
   "pygments_lexer": "ipython3",
   "version": "3.8.11"
  },
  "toc": {
   "base_numbering": 1,
   "nav_menu": {},
   "number_sections": true,
   "sideBar": true,
   "skip_h1_title": false,
   "title_cell": "Table of Contents",
   "title_sidebar": "Contents",
   "toc_cell": false,
   "toc_position": {},
   "toc_section_display": true,
   "toc_window_display": false
  },
  "varInspector": {
   "cols": {
    "lenName": 16,
    "lenType": 16,
    "lenVar": 40
   },
   "kernels_config": {
    "python": {
     "delete_cmd_postfix": "",
     "delete_cmd_prefix": "del ",
     "library": "var_list.py",
     "varRefreshCmd": "print(var_dic_list())"
    },
    "r": {
     "delete_cmd_postfix": ") ",
     "delete_cmd_prefix": "rm(",
     "library": "var_list.r",
     "varRefreshCmd": "cat(var_dic_list()) "
    }
   },
   "oldHeight": 478.183334,
   "position": {
    "height": "40px",
    "left": "1253.67px",
    "right": "20px",
    "top": "120px",
    "width": "326.333px"
   },
   "types_to_exclude": [
    "module",
    "function",
    "builtin_function_or_method",
    "instance",
    "_Feature"
   ],
   "varInspector_section_display": "none",
   "window_display": true
  }
 },
 "nbformat": 4,
 "nbformat_minor": 5
}
